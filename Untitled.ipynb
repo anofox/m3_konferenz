{
 "cells": [
  {
   "cell_type": "markdown",
   "metadata": {},
   "source": [
    "# Quantile Random Forest for Time Series Prediction"
   ]
  },
  {
   "cell_type": "markdown",
   "metadata": {},
   "source": [
    "## Objective of this Notebook\n",
    "\n",
    "1. Apply a machine learning algorithm in time series prediction"
   ]
  },
  {
   "cell_type": "code",
   "execution_count": 9,
   "metadata": {},
   "outputs": [],
   "source": [
    "import matplotlib.pyplot as plt\n",
    "\n",
    "from datetime import datetime\n",
    "import pandas as pd\n",
    "import numpy as np\n",
    "\n",
    "from sklearn.datasets import load_boston\n",
    "from sklearn.model_selection import train_test_split\n",
    "from sklearn.model_selection import KFold\n",
    "from skgarden import RandomForestQuantileRegressor\n",
    "\n",
    "from python_code.data_preparation import load_series"
   ]
  },
  {
   "cell_type": "markdown",
   "metadata": {},
   "source": [
    "## Task Description"
   ]
  },
  {
   "cell_type": "markdown",
   "metadata": {},
   "source": [
    "### Data Parameters\n",
    "\n",
    "You may have to modify the data preparation file (*00_load_smart_meter_data.R*) when applying this code to your own data. In this example, we just have a look at one series, namely with id `MAC000002`. We have:\n",
    "\n",
    "- Number of series: 1\n",
    "- Date range: 2013-10-30 00:00:00 CET to 2014-02-27 23:00:00 CET (121 days)"
   ]
  },
  {
   "cell_type": "code",
   "execution_count": 7,
   "metadata": {},
   "outputs": [],
   "source": [
    "data_path = 'prepared_data/london_smart_meter/'\n",
    "file = 'smart_meters_london_cleaned_same_start_with_weather_example.csv'\n",
    "params = {'column_sort': 'date_time'}\n",
    "\n",
    "df = load_series(data_path, file, params)\n",
    "df.index = df.index.tz_localize('UCT').tz_convert('Etc/GMT-1')"
   ]
  },
  {
   "cell_type": "markdown",
   "metadata": {},
   "source": [
    "### Experiment Parameters\n",
    "\n",
    "In this experiment we will fit a quantile random forest and perform a one day ahead prediction. A rolling forecast will be performed with 28 days for training. As this experiment shall be compareable to the other experiments, we 2014-01-28 will be the first day of prediction."
   ]
  },
  {
   "cell_type": "code",
   "execution_count": 13,
   "metadata": {},
   "outputs": [],
   "source": [
    "h_params = {'n_in': 24 * 28, 'n_out': 24, 'step_foreward': 24, 'column_value': 'energy'}\n",
    "date_train_start =  datetime.strptime('2014-01-01 00:00:00', '%Y-%m-%d %H:%M:%S')\n",
    "df = df[df.index >= date_train_start]"
   ]
  },
  {
   "cell_type": "markdown",
   "metadata": {},
   "source": [
    "### Prepare Data for Quantile Regression"
   ]
  },
  {
   "cell_type": "code",
   "execution_count": null,
   "metadata": {
    "collapsed": true
   },
   "outputs": [],
   "source": []
  }
 ],
 "metadata": {
  "kernelspec": {
   "display_name": "Python 3",
   "language": "python",
   "name": "python3"
  },
  "language_info": {
   "codemirror_mode": {
    "name": "ipython",
    "version": 3
   },
   "file_extension": ".py",
   "mimetype": "text/x-python",
   "name": "python",
   "nbconvert_exporter": "python",
   "pygments_lexer": "ipython3",
   "version": "3.6.2"
  }
 },
 "nbformat": 4,
 "nbformat_minor": 2
}
